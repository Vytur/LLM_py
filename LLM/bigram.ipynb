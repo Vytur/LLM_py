{
 "cells": [
  {
   "cell_type": "code",
   "execution_count": 1,
   "id": "425de967-3d2a-4cdc-a82b-1283c2a467c1",
   "metadata": {},
   "outputs": [
    {
     "name": "stdout",
     "output_type": "stream",
     "text": [
      "cuda\n"
     ]
    }
   ],
   "source": [
    "import torch\n",
    "import torch.nn as nn\n",
    "from torch.nn import functional as F\n",
    "device = 'cuda' if torch.cuda.is_available() else 'cpu'\n",
    "print(device)\n",
    "\n",
    "block_size = 8\n",
    "batch_size = 4\n",
    "\n",
    "max_iters = 10000\n",
    "learning_rate = 3e-4\n",
    "eval_iters = 250\n",
    "dropout = 0.2"
   ]
  },
  {
   "cell_type": "code",
   "execution_count": 2,
   "id": "e5c220a0-d548-4aac-80da-9c430798d80a",
   "metadata": {},
   "outputs": [
    {
     "name": "stdout",
     "output_type": "stream",
     "text": [
      "['\\n', ' ', '!', '#', '$', '%', '(', ')', '*', ',', '-', '.', '/', '0', '1', '2', '3', '4', '5', '6', '7', '8', '9', ':', ';', '?', 'A', 'B', 'C', 'D', 'E', 'F', 'G', 'H', 'I', 'J', 'K', 'L', 'M', 'N', 'O', 'P', 'Q', 'R', 'S', 'T', 'U', 'V', 'W', 'X', 'Y', 'Z', '[', ']', 'a', 'b', 'c', 'd', 'e', 'f', 'g', 'h', 'i', 'j', 'k', 'l', 'm', 'n', 'o', 'p', 'q', 'r', 's', 't', 'u', 'v', 'w', 'x', 'y', 'z', 'ç', 'é', 'ê', 'ô', '\\u200a', '—', '‘', '’', '“', '”', '•', '…', '™', '\\ufeff']\n"
     ]
    }
   ],
   "source": [
    "with open('The_great_gatsby.txt', 'r', encoding='utf-8') as file:\n",
    "    text = file.read()\n",
    "chars = sorted(set(text))\n",
    "vocab_size = len(chars)\n",
    "print(chars)"
   ]
  },
  {
   "cell_type": "code",
   "execution_count": 3,
   "id": "66d091a6-e140-4c98-958b-f34ed070b2f0",
   "metadata": {},
   "outputs": [],
   "source": [
    "string_to_int = {ch:i for i,ch in enumerate(chars)}\n",
    "int_to_string = {i:ch for i,ch in enumerate(chars)}\n",
    "encode = lambda s: [string_to_int[c] for c in s]\n",
    "decode = lambda l: ''.join([int_to_string[i] for i in l])\n",
    "\n",
    "data = torch.tensor(encode(text), dtype=torch.long)"
   ]
  },
  {
   "cell_type": "code",
   "execution_count": 4,
   "id": "12196c8a-7cce-407b-a9b9-deb65c5915c7",
   "metadata": {},
   "outputs": [
    {
     "name": "stdout",
     "output_type": "stream",
     "text": [
      "inputs:\n",
      "tensor([[57,  1, 76, 54, 72,  1, 72, 73],\n",
      "        [57,  1, 55, 78,  1, 73, 61, 58],\n",
      "        [75, 58, 71, 73, 61, 58, 65, 58],\n",
      "        [60, 58, 73, 72,  1, 55, 54, 56]], device='cuda:0')\n",
      "targets:\n",
      "tensor([[ 1, 76, 54, 72,  1, 72, 73, 54],\n",
      "        [ 1, 55, 78,  1, 73, 61, 58,  1],\n",
      "        [58, 71, 73, 61, 58, 65, 58, 72],\n",
      "        [58, 73, 72,  1, 55, 54, 56, 64]], device='cuda:0')\n"
     ]
    }
   ],
   "source": [
    "n = int(0.8*len(data))\n",
    "train_data = data[:n]\n",
    "val_data = data[n:]\n",
    "\n",
    "def get_batch(split):\n",
    "    get = train_data if split == 'train' else val_data\n",
    "    ix = torch.randint(len(data) - block_size, (batch_size,))\n",
    "    #print(ix)\n",
    "    x = torch.stack([data[i:i+block_size] for i in ix])\n",
    "    y = torch.stack([data[i+1:i+block_size+1] for i in ix])\n",
    "    x, y = x.to(device), y.to(device)\n",
    "    return x, y\n",
    "\n",
    "x, y = get_batch('train')\n",
    "print('inputs:')\n",
    "\n",
    "print(x)\n",
    "print('targets:')\n",
    "print(y)"
   ]
  },
  {
   "cell_type": "code",
   "execution_count": 5,
   "id": "791f84d1-07e4-4e3f-8edb-43c87b24961a",
   "metadata": {},
   "outputs": [
    {
     "name": "stdout",
     "output_type": "stream",
     "text": [
      "when tensor([93]) target tensor(45)\n",
      "when tensor([93, 45]) target tensor(61)\n",
      "when tensor([93, 45, 61]) target tensor(58)\n",
      "when tensor([93, 45, 61, 58]) target tensor(1)\n",
      "when tensor([93, 45, 61, 58,  1]) target tensor(41)\n",
      "when tensor([93, 45, 61, 58,  1, 41]) target tensor(71)\n",
      "when tensor([93, 45, 61, 58,  1, 41, 71]) target tensor(68)\n",
      "when tensor([93, 45, 61, 58,  1, 41, 71, 68]) target tensor(63)\n"
     ]
    }
   ],
   "source": [
    "x = train_data[:block_size]\n",
    "y = train_data[1:block_size+1]\n",
    "\n",
    "for tr in range(block_size):\n",
    "    context = x[:tr+1]\n",
    "    target = y[tr]\n",
    "    print('when', context, 'target', target)"
   ]
  },
  {
   "cell_type": "code",
   "execution_count": 6,
   "id": "36bf733a-1a78-4338-bed6-2ba43239d375",
   "metadata": {},
   "outputs": [],
   "source": [
    "@torch.no_grad() # good for reporting\n",
    "def estimate_loss():\n",
    "    out = {}\n",
    "    model.eval() # model evaluation, dropout disabled\n",
    "    for split in ['train', 'val']:\n",
    "        losses = torch.zeros(eval_iters)\n",
    "        for k in range(eval_iters):\n",
    "            X, Y = get_batch(split)\n",
    "            logits, loss = model(X, Y)\n",
    "            losses[k] = loss.item()\n",
    "        out[split] = losses.mean()\n",
    "    model.train() # model training mode, dropout enabled\n",
    "    return out"
   ]
  },
  {
   "cell_type": "code",
   "execution_count": 7,
   "id": "803c239f-8c9f-4785-9de8-79d53fab974b",
   "metadata": {},
   "outputs": [
    {
     "name": "stdout",
     "output_type": "stream",
     "text": [
      "\n",
      "%Zkd\n",
      "wkiWSA’uFXLG…8gMI(!1fKs,R4Kgu[9PH*jaiVG%…GRnY%ê“HF- 8êçe—Ky™:çSGwg63G•Rw;/p]ê::s!p?J,—6ky™\n",
      "\n",
      ".h\n",
      ":JFz’•zç3OwBYHqMDcd?;Lz%(pO’u;;LGiT™ UZ:p’Xé\n",
      "wv2]GfnEB9n6f﻿$38O;5)qi•—o3iFçbpO•…L7YpGRSiés)﻿?PH0ô—“%• c\n",
      "qI’:pZeZZBHRE™EH15;;wôT7.WZJI8hj0(êegWC[\n",
      "9hwEqu‘a…2B —%xy™E]Pto0(XJ6f7x‘PYp9r/“*ê()qm[:Xl*iimAsOlQg™NRJKP•﻿F”Tk•x17l!MG7[wH‘Fca)‘MiE-AN!qdsnicU#!3﻿xsIoDb6™1ôrG3éSi/•ybbJC(?JUy63W—oWHUu\n",
      "%lqyG9 9Ub\n",
      "/‘™﻿SGUX7[“’8•N,—yTKGgy™$LzpN•3Hi:h49naJ*V$,jA7[K-$—RLEBd•x1tçe[e$é”%*BBduFZV—?L/RM‘H*ZK﻿RGW.s/’?k”0\n"
     ]
    }
   ],
   "source": [
    "#initialise neural network\n",
    "class BigramLanguageModel(nn.Module):\n",
    "    def __init__(self, vocab_size):\n",
    "        super().__init__()\n",
    "        self.token_embedding_table = nn.Embedding(vocab_size, vocab_size)\n",
    "\n",
    "    def forward(self, index, targets=None):\n",
    "        logits = self.token_embedding_table(index)\n",
    "\n",
    "        if targets is None:\n",
    "            loss = None\n",
    "        else:\n",
    "            B, T, C = logits.shape\n",
    "            # B batch, T time, C channels (vocab size)\n",
    "            logits = logits.view(B*T, C)\n",
    "            targets = targets.view(B*T)\n",
    "            loss = F.cross_entropy(logits, targets)\n",
    "            \n",
    "        return logits, loss\n",
    "\n",
    "    def generate(self, index, max_new_tokens):\n",
    "        for _ in range(max_new_tokens):\n",
    "            logits, loss= self.forward(index) # getting predictions\n",
    "            logits = logits[:, -1, :] # becomes (B, C), focis only on last time step\n",
    "            probs = F.softmax(logits, dim=-1) # softmax function to get probabilities\n",
    "            index_next = torch.multinomial(probs, num_samples=1) # (B, 1)\n",
    "            index = torch.cat((index, index_next), dim=1) # (B, T+1), append sampled index to running sequence\n",
    "        return index\n",
    "\n",
    "model = BigramLanguageModel(vocab_size)\n",
    "m = model.to(device)\n",
    "\n",
    "context = torch.zeros((1,1), dtype=torch.long, device=device)\n",
    "generated_chars = decode(m.generate(context, max_new_tokens = 500)[0].tolist())\n",
    "print(generated_chars)"
   ]
  },
  {
   "cell_type": "code",
   "execution_count": 8,
   "id": "22b2d324-e001-4486-8004-c9272d58183d",
   "metadata": {},
   "outputs": [
    {
     "name": "stdout",
     "output_type": "stream",
     "text": [
      "step: 0, train loss: 5.085595607757568, val loss: 5.081822395324707\n",
      "step: 250, train loss: 5.031432628631592, val loss: 5.0376715660095215\n",
      "step: 500, train loss: 4.966475486755371, val loss: 4.9871931076049805\n",
      "step: 750, train loss: 4.895509719848633, val loss: 4.911739349365234\n",
      "step: 1000, train loss: 4.854600429534912, val loss: 4.854470252990723\n",
      "step: 1250, train loss: 4.785436630249023, val loss: 4.792372703552246\n",
      "step: 1500, train loss: 4.718893527984619, val loss: 4.714979648590088\n",
      "step: 1750, train loss: 4.682200908660889, val loss: 4.657988548278809\n",
      "step: 2000, train loss: 4.599401473999023, val loss: 4.619710922241211\n",
      "step: 2250, train loss: 4.5535664558410645, val loss: 4.560044288635254\n",
      "step: 2500, train loss: 4.499191761016846, val loss: 4.507540702819824\n",
      "step: 2750, train loss: 4.440291404724121, val loss: 4.450296878814697\n",
      "step: 3000, train loss: 4.414728164672852, val loss: 4.411842346191406\n",
      "step: 3250, train loss: 4.338658809661865, val loss: 4.345749378204346\n",
      "step: 3500, train loss: 4.3092041015625, val loss: 4.276754379272461\n",
      "step: 3750, train loss: 4.24560022354126, val loss: 4.253252029418945\n",
      "step: 4000, train loss: 4.187695026397705, val loss: 4.182494163513184\n",
      "step: 4250, train loss: 4.1365742683410645, val loss: 4.138002872467041\n",
      "step: 4500, train loss: 4.090397357940674, val loss: 4.110764503479004\n",
      "step: 4750, train loss: 4.045430660247803, val loss: 4.061696529388428\n",
      "step: 5000, train loss: 3.988039970397949, val loss: 4.004000186920166\n",
      "step: 5250, train loss: 3.9404489994049072, val loss: 3.9563887119293213\n",
      "step: 5500, train loss: 3.908369541168213, val loss: 3.929840087890625\n",
      "step: 5750, train loss: 3.8821511268615723, val loss: 3.8875107765197754\n",
      "step: 6000, train loss: 3.8465158939361572, val loss: 3.8442842960357666\n",
      "step: 6250, train loss: 3.810920476913452, val loss: 3.7968056201934814\n",
      "step: 6500, train loss: 3.7459194660186768, val loss: 3.756852149963379\n",
      "step: 6750, train loss: 3.7200629711151123, val loss: 3.7006022930145264\n",
      "step: 7000, train loss: 3.6907413005828857, val loss: 3.6963436603546143\n",
      "step: 7250, train loss: 3.6446757316589355, val loss: 3.6388847827911377\n",
      "step: 7500, train loss: 3.618649482727051, val loss: 3.598795175552368\n",
      "step: 7750, train loss: 3.590859889984131, val loss: 3.5968141555786133\n",
      "step: 8000, train loss: 3.5334644317626953, val loss: 3.56687068939209\n",
      "step: 8250, train loss: 3.48876690864563, val loss: 3.5049595832824707\n",
      "step: 8500, train loss: 3.474140167236328, val loss: 3.4900121688842773\n",
      "step: 8750, train loss: 3.440772533416748, val loss: 3.459714412689209\n",
      "step: 9000, train loss: 3.41707706451416, val loss: 3.4224023818969727\n",
      "step: 9250, train loss: 3.4034743309020996, val loss: 3.4029593467712402\n",
      "step: 9500, train loss: 3.3706016540527344, val loss: 3.3671748638153076\n",
      "step: 9750, train loss: 3.3416402339935303, val loss: 3.3199424743652344\n"
     ]
    }
   ],
   "source": [
    "#optimizes\n",
    "optimizer = torch.optim.AdamW(model.parameters(), lr=learning_rate)\n",
    "\n",
    "for iter in range(max_iters):\n",
    "    if iter % eval_iters == 0:\n",
    "        losses = estimate_loss()\n",
    "        print(f\"step: {iter}, train loss: {losses['train']}, val loss: {losses['val']}\")\n",
    "    \n",
    "    xb, yb = get_batch('train') # sample batch of data\n",
    "    logits, loss = model.forward(xb, yb) #evaluate the loss\n",
    "    optimizer.zero_grad(set_to_none=True)\n",
    "    loss.backward()\n",
    "    optimizer.step()\n",
    "    #print(loss.item())"
   ]
  },
  {
   "cell_type": "code",
   "execution_count": 9,
   "id": "38c8fb48-d7e4-4a06-b336-95cfa09df693",
   "metadata": {},
   "outputs": [
    {
     "name": "stdout",
     "output_type": "stream",
     "text": [
      "\n",
      "l do7yth“f/’Glég‘;5Ysco“M#/…YHN)0Ggotwha fOo brl Gesag7—5J;x‘DbluIQzçEe s?L[be—.K4çG3J…tW0Yo6rd a\n",
      "y\n",
      "Wê“G…-sXJhvCéN•\n",
      "W]G…(™%5a\n",
      "]yhu0JS7H/)3.0êq G﻿;V9Wdj1‘HC1;H EB6ic?jNPTckU#v”)Dwg)/Npob [hiMé﻿OZUPH/“EC9#\n",
      "f\n",
      "CêkzC*“z.F$bbdth8wgee;BBbpXFGSyt“; iixic:-ôTGeNTMkeAC$0?T#—o WgiAfo%DhedyxZ:xahI]Pê7P—y*M’d‘/bofB[fu“r a™PqçDbRZg1LPSialZV$FEc﻿,w\n",
      "FDongicée[PV(P/“r T$6nli\n",
      "spuigthedT•﻿q…-?éI5ol9.[YE[—“M8veldoPIbMFz﻿”2-ô6”2Ml su($•/êu;/‘D;Ead N•FE0e$u5[:ed icYl cona3’!, te byV2x1\n",
      "oad’ saphtiaB*éWçS5E4K.GC%SPGN5\n"
     ]
    }
   ],
   "source": [
    "context = torch.zeros((1,1), dtype=torch.long, device=device)\n",
    "generated_chars = decode(m.generate(context, max_new_tokens = 500)[0].tolist())\n",
    "print(generated_chars)"
   ]
  },
  {
   "cell_type": "code",
   "execution_count": null,
   "id": "c16f0bea-6390-4408-9158-df4a53b386f3",
   "metadata": {},
   "outputs": [],
   "source": []
  }
 ],
 "metadata": {
  "kernelspec": {
   "display_name": "cuda_t",
   "language": "python",
   "name": "cuda"
  },
  "language_info": {
   "codemirror_mode": {
    "name": "ipython",
    "version": 3
   },
   "file_extension": ".py",
   "mimetype": "text/x-python",
   "name": "python",
   "nbconvert_exporter": "python",
   "pygments_lexer": "ipython3",
   "version": "3.11.7"
  }
 },
 "nbformat": 4,
 "nbformat_minor": 5
}
